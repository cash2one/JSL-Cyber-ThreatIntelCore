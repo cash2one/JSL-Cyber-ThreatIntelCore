{
 "cells": [
  {
   "cell_type": "code",
   "execution_count": 85,
   "metadata": {},
   "outputs": [],
   "source": [
    "import pandas as pd\n",
    "import string"
   ]
  },
  {
   "cell_type": "code",
   "execution_count": 139,
   "metadata": {},
   "outputs": [
    {
     "data": {
      "text/html": [
       "<div>\n",
       "<table border=\"1\" class=\"dataframe\">\n",
       "  <thead>\n",
       "    <tr style=\"text-align: right;\">\n",
       "      <th></th>\n",
       "      <th>Country_Name</th>\n",
       "      <th>Internet_Service_Provider</th>\n",
       "      <th>IP_original</th>\n",
       "      <th>IP_whois</th>\n",
       "    </tr>\n",
       "  </thead>\n",
       "  <tbody>\n",
       "    <tr>\n",
       "      <th>0</th>\n",
       "      <td>United States</td>\n",
       "      <td>Unified Layer</td>\n",
       "      <td>162.214.30.187</td>\n",
       "      <td>77.240.123.179</td>\n",
       "    </tr>\n",
       "    <tr>\n",
       "      <th>1</th>\n",
       "      <td>Spain</td>\n",
       "      <td>acens Technologies, S.L.</td>\n",
       "      <td>77.240.123.179</td>\n",
       "      <td>107.180.55.21</td>\n",
       "    </tr>\n",
       "    <tr>\n",
       "      <th>2</th>\n",
       "      <td>Germany</td>\n",
       "      <td>Alfahosting GmbH</td>\n",
       "      <td>109.237.140.6</td>\n",
       "      <td>103.27.60.14</td>\n",
       "    </tr>\n",
       "    <tr>\n",
       "      <th>3</th>\n",
       "      <td>Vietnam</td>\n",
       "      <td>Viet Solutions Services Trading Company Limited</td>\n",
       "      <td>103.27.60.14</td>\n",
       "      <td>162.214.30.187</td>\n",
       "    </tr>\n",
       "    <tr>\n",
       "      <th>4</th>\n",
       "      <td>United States</td>\n",
       "      <td>Cybernet1</td>\n",
       "      <td>108.174.112.194</td>\n",
       "      <td>109.237.140.6</td>\n",
       "    </tr>\n",
       "    <tr>\n",
       "      <th>5</th>\n",
       "      <td>United States</td>\n",
       "      <td>GoDaddy.com, LLC</td>\n",
       "      <td>107.180.55.21</td>\n",
       "      <td>92.242.132.15</td>\n",
       "    </tr>\n",
       "    <tr>\n",
       "      <th>6</th>\n",
       "      <td>United Kingdom</td>\n",
       "      <td>Barefruit Ltd.</td>\n",
       "      <td>92.242.132.15</td>\n",
       "      <td>108.174.112.194</td>\n",
       "    </tr>\n",
       "  </tbody>\n",
       "</table>\n",
       "</div>"
      ]
     },
     "output_type": "execute_result",
     "metadata": {}
    }
   ],
   "source": [
    "df = pd.read_csv(\"pandas_join.csv\")\n",
    "df"
   ]
  },
  {
   "cell_type": "code",
   "execution_count": 140,
   "metadata": {},
   "outputs": [],
   "source": [
    "df_1 = df[['IP_original']]\n",
    "df_1 = df_1.set_index('IP_original')\n",
    "df_2 = df[[u'Country_Name', u'Internet_Service_Provider', 'IP_whois']]\n",
    "df_2 = df_2.set_index('IP_whois')"
   ]
  },
  {
   "cell_type": "code",
   "execution_count": 141,
   "metadata": {},
   "outputs": [
    {
     "data": {
      "text/html": [
       "<div>\n",
       "<table border=\"1\" class=\"dataframe\">\n",
       "  <thead>\n",
       "    <tr style=\"text-align: right;\">\n",
       "      <th></th>\n",
       "    </tr>\n",
       "    <tr>\n",
       "      <th>IP_original</th>\n",
       "    </tr>\n",
       "  </thead>\n",
       "  <tbody>\n",
       "    <tr>\n",
       "      <th>162.214.30.187</th>\n",
       "    </tr>\n",
       "    <tr>\n",
       "      <th>77.240.123.179</th>\n",
       "    </tr>\n",
       "    <tr>\n",
       "      <th>109.237.140.6</th>\n",
       "    </tr>\n",
       "    <tr>\n",
       "      <th>103.27.60.14</th>\n",
       "    </tr>\n",
       "    <tr>\n",
       "      <th>108.174.112.194</th>\n",
       "    </tr>\n",
       "    <tr>\n",
       "      <th>107.180.55.21</th>\n",
       "    </tr>\n",
       "    <tr>\n",
       "      <th>92.242.132.15</th>\n",
       "    </tr>\n",
       "  </tbody>\n",
       "</table>\n",
       "</div>"
      ]
     },
     "output_type": "execute_result",
     "metadata": {}
    }
   ],
   "source": [
    "df_1"
   ]
  },
  {
   "cell_type": "code",
   "execution_count": 142,
   "metadata": {},
   "outputs": [
    {
     "data": {
      "text/html": [
       "<div>\n",
       "<table border=\"1\" class=\"dataframe\">\n",
       "  <thead>\n",
       "    <tr style=\"text-align: right;\">\n",
       "      <th></th>\n",
       "      <th>Country_Name</th>\n",
       "      <th>Internet_Service_Provider</th>\n",
       "    </tr>\n",
       "    <tr>\n",
       "      <th>IP_whois</th>\n",
       "      <th></th>\n",
       "      <th></th>\n",
       "    </tr>\n",
       "  </thead>\n",
       "  <tbody>\n",
       "    <tr>\n",
       "      <th>77.240.123.179</th>\n",
       "      <td>United States</td>\n",
       "      <td>Unified Layer</td>\n",
       "    </tr>\n",
       "    <tr>\n",
       "      <th>107.180.55.21</th>\n",
       "      <td>Spain</td>\n",
       "      <td>acens Technologies, S.L.</td>\n",
       "    </tr>\n",
       "    <tr>\n",
       "      <th>103.27.60.14</th>\n",
       "      <td>Germany</td>\n",
       "      <td>Alfahosting GmbH</td>\n",
       "    </tr>\n",
       "    <tr>\n",
       "      <th>162.214.30.187</th>\n",
       "      <td>Vietnam</td>\n",
       "      <td>Viet Solutions Services Trading Company Limited</td>\n",
       "    </tr>\n",
       "    <tr>\n",
       "      <th>109.237.140.6</th>\n",
       "      <td>United States</td>\n",
       "      <td>Cybernet1</td>\n",
       "    </tr>\n",
       "    <tr>\n",
       "      <th>92.242.132.15</th>\n",
       "      <td>United States</td>\n",
       "      <td>GoDaddy.com, LLC</td>\n",
       "    </tr>\n",
       "    <tr>\n",
       "      <th>108.174.112.194</th>\n",
       "      <td>United Kingdom</td>\n",
       "      <td>Barefruit Ltd.</td>\n",
       "    </tr>\n",
       "  </tbody>\n",
       "</table>\n",
       "</div>"
      ]
     },
     "output_type": "execute_result",
     "metadata": {}
    }
   ],
   "source": [
    "df_2"
   ]
  },
  {
   "cell_type": "code",
   "execution_count": 143,
   "metadata": {},
   "outputs": [
    {
     "data": {
      "text/html": [
       "<div>\n",
       "<table border=\"1\" class=\"dataframe\">\n",
       "  <thead>\n",
       "    <tr style=\"text-align: right;\">\n",
       "      <th></th>\n",
       "      <th>Country_Name</th>\n",
       "      <th>Internet_Service_Provider</th>\n",
       "    </tr>\n",
       "    <tr>\n",
       "      <th>IP_original</th>\n",
       "      <th></th>\n",
       "      <th></th>\n",
       "    </tr>\n",
       "  </thead>\n",
       "  <tbody>\n",
       "    <tr>\n",
       "      <th>162.214.30.187</th>\n",
       "      <td>Vietnam</td>\n",
       "      <td>Viet Solutions Services Trading Company Limited</td>\n",
       "    </tr>\n",
       "    <tr>\n",
       "      <th>77.240.123.179</th>\n",
       "      <td>United States</td>\n",
       "      <td>Unified Layer</td>\n",
       "    </tr>\n",
       "    <tr>\n",
       "      <th>109.237.140.6</th>\n",
       "      <td>United States</td>\n",
       "      <td>Cybernet1</td>\n",
       "    </tr>\n",
       "    <tr>\n",
       "      <th>103.27.60.14</th>\n",
       "      <td>Germany</td>\n",
       "      <td>Alfahosting GmbH</td>\n",
       "    </tr>\n",
       "    <tr>\n",
       "      <th>108.174.112.194</th>\n",
       "      <td>United Kingdom</td>\n",
       "      <td>Barefruit Ltd.</td>\n",
       "    </tr>\n",
       "    <tr>\n",
       "      <th>107.180.55.21</th>\n",
       "      <td>Spain</td>\n",
       "      <td>acens Technologies, S.L.</td>\n",
       "    </tr>\n",
       "    <tr>\n",
       "      <th>92.242.132.15</th>\n",
       "      <td>United States</td>\n",
       "      <td>GoDaddy.com, LLC</td>\n",
       "    </tr>\n",
       "  </tbody>\n",
       "</table>\n",
       "</div>"
      ]
     },
     "output_type": "execute_result",
     "metadata": {}
    }
   ],
   "source": [
    "df_1.join(df_2)"
   ]
  },
  {
   "cell_type": "code",
   "execution_count": null,
   "metadata": {},
   "outputs": [],
   "source": [
    ""
   ]
  }
 ],
 "metadata": {
  "kernelspec": {
   "display_name": "Python 2",
   "language": "python",
   "name": "python2"
  },
  "language_info": {
   "codemirror_mode": {
    "name": "ipython",
    "version": 2.0
   },
   "file_extension": ".py",
   "mimetype": "text/x-python",
   "name": "python",
   "nbconvert_exporter": "python",
   "pygments_lexer": "ipython2",
   "version": "2.7.11"
  }
 },
 "nbformat": 4,
 "nbformat_minor": 0
}